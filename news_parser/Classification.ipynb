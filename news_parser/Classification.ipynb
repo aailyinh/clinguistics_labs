{
  "cells": [
    {
      "cell_type": "code",
      "execution_count": 1,
      "metadata": {
        "id": "hJ2uCA6BHd7k"
      },
      "outputs": [],
      "source": [
        "import sys\n",
        "import subprocess\n",
        "import pkg_resources\n",
        "\n",
        "required = {'numpy', 'pandas', 'pathlib', 'nltk'}\n",
        "installed = {pkg.key for pkg in pkg_resources.working_set}\n",
        "missing = required - installed\n",
        "\n",
        "if missing:\n",
        "    python = sys.executable\n",
        "    subprocess.check_call([python, '-m', 'pip', 'install', *missing], stdout=subprocess.DEVNULL)"
      ]
    },
    {
      "cell_type": "code",
      "execution_count": 2,
      "metadata": {
        "id": "SL-1kgeNHd7n"
      },
      "outputs": [],
      "source": [
        "import numpy as np\n",
        "import pandas as pd\n",
        "import json"
      ]
    },
    {
      "cell_type": "markdown",
      "metadata": {
        "id": "_rdDiBezHd7o"
      },
      "source": [
        "# Import data"
      ]
    },
    {
      "cell_type": "code",
      "execution_count": 67,
      "metadata": {
        "id": "NniVRZqmHd7p"
      },
      "outputs": [],
      "source": [
        "DATASET_PATH = './artifacts/merged.json'"
      ]
    },
    {
      "cell_type": "code",
      "execution_count": 68,
      "metadata": {
        "colab": {
          "base_uri": "https://localhost:8080/",
          "height": 676
        },
        "id": "s7idD28THd7q",
        "outputId": "aa6d91b9-e7fb-4241-9093-a43a9c3aa9db"
      },
      "outputs": [
        {
          "output_type": "execute_result",
          "data": {
            "text/html": [
              "\n",
              "  <div id=\"df-454c6343-a62c-4125-bd6c-a5bf0d86d944\">\n",
              "    <div class=\"colab-df-container\">\n",
              "      <div>\n",
              "<style scoped>\n",
              "    .dataframe tbody tr th:only-of-type {\n",
              "        vertical-align: middle;\n",
              "    }\n",
              "\n",
              "    .dataframe tbody tr th {\n",
              "        vertical-align: top;\n",
              "    }\n",
              "\n",
              "    .dataframe thead th {\n",
              "        text-align: right;\n",
              "    }\n",
              "</style>\n",
              "<table border=\"1\" class=\"dataframe\">\n",
              "  <thead>\n",
              "    <tr style=\"text-align: right;\">\n",
              "      <th></th>\n",
              "      <th>article_id</th>\n",
              "      <th>category</th>\n",
              "      <th>title</th>\n",
              "      <th>tags</th>\n",
              "      <th>text</th>\n",
              "    </tr>\n",
              "  </thead>\n",
              "  <tbody>\n",
              "    <tr>\n",
              "      <th>0</th>\n",
              "      <td>http://www.bbc.co.uk/news/world-europe-55497084</td>\n",
              "      <td>world-europe</td>\n",
              "      <td>Brexit: Gibraltar gets UK-Spain deal to keep o...</td>\n",
              "      <td>Gibraltar,Spain,Effects of Brexit on Gibraltar...</td>\n",
              "      <td>Spain has reached a deal with the UK to mainta...</td>\n",
              "    </tr>\n",
              "    <tr>\n",
              "      <th>1</th>\n",
              "      <td>http://www.bbc.co.uk/news/uk-northern-ireland-...</td>\n",
              "      <td>uk-northern-ireland</td>\n",
              "      <td>Covid-19: Homeschooling returns for first week...</td>\n",
              "      <td>NI education,Coronavirus lockdown measures,Cor...</td>\n",
              "      <td>Most pupils in Northern Ireland will not be re...</td>\n",
              "    </tr>\n",
              "    <tr>\n",
              "      <th>2</th>\n",
              "      <td>http://www.bbc.co.uk/news/business-55494101</td>\n",
              "      <td>business</td>\n",
              "      <td>Adieu to the single market created by the UK</td>\n",
              "      <td>Companies,EU-UK post-Brexit trade talks,Boris ...</td>\n",
              "      <td>Nearly half a century of the UK's membership o...</td>\n",
              "    </tr>\n",
              "    <tr>\n",
              "      <th>3</th>\n",
              "      <td>http://www.bbc.co.uk/news/uk-england-merseysid...</td>\n",
              "      <td>uk-england-merseyside</td>\n",
              "      <td>Joe Anderson: Liverpool mayor in police probe ...</td>\n",
              "      <td>Liverpool City Council,Liverpool</td>\n",
              "      <td>Liverpool Mayor Joe Anderson says he will not ...</td>\n",
              "    </tr>\n",
              "    <tr>\n",
              "      <th>4</th>\n",
              "      <td>http://www.bbc.co.uk/news/uk-55502595</td>\n",
              "      <td>uk</td>\n",
              "      <td>Covid-19: UK reports a record 55,892 daily cases</td>\n",
              "      <td>Healthcare,Coronavirus pandemic</td>\n",
              "      <td>The UK has reported another 55,892 daily cases...</td>\n",
              "    </tr>\n",
              "    <tr>\n",
              "      <th>...</th>\n",
              "      <td>...</td>\n",
              "      <td>...</td>\n",
              "      <td>...</td>\n",
              "      <td>...</td>\n",
              "      <td>...</td>\n",
              "    </tr>\n",
              "    <tr>\n",
              "      <th>23602</th>\n",
              "      <td>http://www.bbc.co.uk/news/world-australia-5947...</td>\n",
              "      <td>world-australia</td>\n",
              "      <td>Australian parliament: One in three workers se...</td>\n",
              "      <td>Sexual harassment,Australia</td>\n",
              "      <td>A third of employees in Australia's federal pa...</td>\n",
              "    </tr>\n",
              "    <tr>\n",
              "      <th>23603</th>\n",
              "      <td>http://www.bbc.co.uk/news/explainers-52544307</td>\n",
              "      <td>explainers</td>\n",
              "      <td>What Covid tests do I still need to travel abr...</td>\n",
              "      <td>Tourism,Spain,France,Coronavirus lockdown meas...</td>\n",
              "      <td>From next month, fully vaccinated people trave...</td>\n",
              "    </tr>\n",
              "    <tr>\n",
              "      <th>23604</th>\n",
              "      <td>http://www.bbc.co.uk/news/world-middle-east-59...</td>\n",
              "      <td>world-middle-east</td>\n",
              "      <td>Yemen: The children haunted by 'ghosts' of war</td>\n",
              "      <td>NaN</td>\n",
              "      <td></td>\n",
              "    </tr>\n",
              "    <tr>\n",
              "      <th>23605</th>\n",
              "      <td>http://www.bbc.co.uk/news/business-59466803</td>\n",
              "      <td>business</td>\n",
              "      <td>Facial recognition firm faces possible £17m pr...</td>\n",
              "      <td>Facial recognition,Information Commissioner's ...</td>\n",
              "      <td>An Australian firm which claims to have a data...</td>\n",
              "    </tr>\n",
              "    <tr>\n",
              "      <th>23606</th>\n",
              "      <td>http://www.bbc.co.uk/news/world-asia-59457607</td>\n",
              "      <td>world-asia</td>\n",
              "      <td>China: Moment North Korean inmate breaks out o...</td>\n",
              "      <td>NaN</td>\n",
              "      <td></td>\n",
              "    </tr>\n",
              "  </tbody>\n",
              "</table>\n",
              "<p>23607 rows × 5 columns</p>\n",
              "</div>\n",
              "      <button class=\"colab-df-convert\" onclick=\"convertToInteractive('df-454c6343-a62c-4125-bd6c-a5bf0d86d944')\"\n",
              "              title=\"Convert this dataframe to an interactive table.\"\n",
              "              style=\"display:none;\">\n",
              "        \n",
              "  <svg xmlns=\"http://www.w3.org/2000/svg\" height=\"24px\"viewBox=\"0 0 24 24\"\n",
              "       width=\"24px\">\n",
              "    <path d=\"M0 0h24v24H0V0z\" fill=\"none\"/>\n",
              "    <path d=\"M18.56 5.44l.94 2.06.94-2.06 2.06-.94-2.06-.94-.94-2.06-.94 2.06-2.06.94zm-11 1L8.5 8.5l.94-2.06 2.06-.94-2.06-.94L8.5 2.5l-.94 2.06-2.06.94zm10 10l.94 2.06.94-2.06 2.06-.94-2.06-.94-.94-2.06-.94 2.06-2.06.94z\"/><path d=\"M17.41 7.96l-1.37-1.37c-.4-.4-.92-.59-1.43-.59-.52 0-1.04.2-1.43.59L10.3 9.45l-7.72 7.72c-.78.78-.78 2.05 0 2.83L4 21.41c.39.39.9.59 1.41.59.51 0 1.02-.2 1.41-.59l7.78-7.78 2.81-2.81c.8-.78.8-2.07 0-2.86zM5.41 20L4 18.59l7.72-7.72 1.47 1.35L5.41 20z\"/>\n",
              "  </svg>\n",
              "      </button>\n",
              "      \n",
              "  <style>\n",
              "    .colab-df-container {\n",
              "      display:flex;\n",
              "      flex-wrap:wrap;\n",
              "      gap: 12px;\n",
              "    }\n",
              "\n",
              "    .colab-df-convert {\n",
              "      background-color: #E8F0FE;\n",
              "      border: none;\n",
              "      border-radius: 50%;\n",
              "      cursor: pointer;\n",
              "      display: none;\n",
              "      fill: #1967D2;\n",
              "      height: 32px;\n",
              "      padding: 0 0 0 0;\n",
              "      width: 32px;\n",
              "    }\n",
              "\n",
              "    .colab-df-convert:hover {\n",
              "      background-color: #E2EBFA;\n",
              "      box-shadow: 0px 1px 2px rgba(60, 64, 67, 0.3), 0px 1px 3px 1px rgba(60, 64, 67, 0.15);\n",
              "      fill: #174EA6;\n",
              "    }\n",
              "\n",
              "    [theme=dark] .colab-df-convert {\n",
              "      background-color: #3B4455;\n",
              "      fill: #D2E3FC;\n",
              "    }\n",
              "\n",
              "    [theme=dark] .colab-df-convert:hover {\n",
              "      background-color: #434B5C;\n",
              "      box-shadow: 0px 1px 3px 1px rgba(0, 0, 0, 0.15);\n",
              "      filter: drop-shadow(0px 1px 2px rgba(0, 0, 0, 0.3));\n",
              "      fill: #FFFFFF;\n",
              "    }\n",
              "  </style>\n",
              "\n",
              "      <script>\n",
              "        const buttonEl =\n",
              "          document.querySelector('#df-454c6343-a62c-4125-bd6c-a5bf0d86d944 button.colab-df-convert');\n",
              "        buttonEl.style.display =\n",
              "          google.colab.kernel.accessAllowed ? 'block' : 'none';\n",
              "\n",
              "        async function convertToInteractive(key) {\n",
              "          const element = document.querySelector('#df-454c6343-a62c-4125-bd6c-a5bf0d86d944');\n",
              "          const dataTable =\n",
              "            await google.colab.kernel.invokeFunction('convertToInteractive',\n",
              "                                                     [key], {});\n",
              "          if (!dataTable) return;\n",
              "\n",
              "          const docLinkHtml = 'Like what you see? Visit the ' +\n",
              "            '<a target=\"_blank\" href=https://colab.research.google.com/notebooks/data_table.ipynb>data table notebook</a>'\n",
              "            + ' to learn more about interactive tables.';\n",
              "          element.innerHTML = '';\n",
              "          dataTable['output_type'] = 'display_data';\n",
              "          await google.colab.output.renderOutput(dataTable, element);\n",
              "          const docLink = document.createElement('div');\n",
              "          docLink.innerHTML = docLinkHtml;\n",
              "          element.appendChild(docLink);\n",
              "        }\n",
              "      </script>\n",
              "    </div>\n",
              "  </div>\n",
              "  "
            ],
            "text/plain": [
              "                                              article_id  ...                                               text\n",
              "0        http://www.bbc.co.uk/news/world-europe-55497084  ...  Spain has reached a deal with the UK to mainta...\n",
              "1      http://www.bbc.co.uk/news/uk-northern-ireland-...  ...  Most pupils in Northern Ireland will not be re...\n",
              "2            http://www.bbc.co.uk/news/business-55494101  ...  Nearly half a century of the UK's membership o...\n",
              "3      http://www.bbc.co.uk/news/uk-england-merseysid...  ...  Liverpool Mayor Joe Anderson says he will not ...\n",
              "4                  http://www.bbc.co.uk/news/uk-55502595  ...  The UK has reported another 55,892 daily cases...\n",
              "...                                                  ...  ...                                                ...\n",
              "23602  http://www.bbc.co.uk/news/world-australia-5947...  ...  A third of employees in Australia's federal pa...\n",
              "23603      http://www.bbc.co.uk/news/explainers-52544307  ...  From next month, fully vaccinated people trave...\n",
              "23604  http://www.bbc.co.uk/news/world-middle-east-59...  ...                                                   \n",
              "23605        http://www.bbc.co.uk/news/business-59466803  ...  An Australian firm which claims to have a data...\n",
              "23606      http://www.bbc.co.uk/news/world-asia-59457607  ...                                                   \n",
              "\n",
              "[23607 rows x 5 columns]"
            ]
          },
          "metadata": {},
          "execution_count": 68
        }
      ],
      "source": [
        "dataset = None\n",
        "with open(DATASET_PATH) as json_file:\n",
        "    dataset_raw = json.load(json_file)\n",
        "    columns = dataset_raw['catalog'][0].keys()\n",
        "    dataset = pd.DataFrame(columns=columns, data=dataset_raw['catalog'])\n",
        "    \n",
        "# transormations\n",
        "for index, row in dataset.iterrows():\n",
        "    if row['category'] == '#comp-comments':\n",
        "        row['article_id'] = row['article_id'][:-len('/#comp-comments-button')]\n",
        "        url = row['article_id']\n",
        "        row['category'] = url[url.rfind('/')+1:url.rfind('-')]\n",
        "        \n",
        "dataset"
      ]
    },
    {
      "cell_type": "code",
      "execution_count": 69,
      "metadata": {
        "colab": {
          "base_uri": "https://localhost:8080/"
        },
        "id": "0ght8ciAHd7r",
        "outputId": "73d7135d-6833-4119-fb5d-e81eb97cb562"
      },
      "outputs": [
        {
          "output_type": "execute_result",
          "data": {
            "text/plain": [
              "uk                               3507\n",
              "business                         2323\n",
              "uk-wales                         1936\n",
              "health                           1457\n",
              "world-us-canada                  1414\n",
              "uk-politics                      1389\n",
              "uk-northern-ireland              1231\n",
              "world-europe                     1015\n",
              "uk-scotland                       863\n",
              "entertainment-arts                833\n",
              "world-asia                        672\n",
              "science-environment               565\n",
              "uk-england-london                 559\n",
              "explainers                        435\n",
              "technology                        409\n",
              "education                         337\n",
              "uk-wales-politics                 331\n",
              "world-middle-east                 315\n",
              "uk-scotland-scotland-politics     266\n",
              "world                             247\n",
              "Name: category, dtype: int64"
            ]
          },
          "metadata": {},
          "execution_count": 69
        }
      ],
      "source": [
        "dataset['category'].value_counts()[:20]"
      ]
    },
    {
      "cell_type": "code",
      "execution_count": 70,
      "metadata": {
        "colab": {
          "base_uri": "https://localhost:8080/",
          "height": 641
        },
        "id": "IphfjqLfHd7s",
        "outputId": "738fdcba-46cb-40d3-aa46-52790525886d"
      },
      "outputs": [
        {
          "output_type": "execute_result",
          "data": {
            "text/html": [
              "\n",
              "  <div id=\"df-f215e874-2df7-49dd-b89d-2e270941a963\">\n",
              "    <div class=\"colab-df-container\">\n",
              "      <div>\n",
              "<style scoped>\n",
              "    .dataframe tbody tr th:only-of-type {\n",
              "        vertical-align: middle;\n",
              "    }\n",
              "\n",
              "    .dataframe tbody tr th {\n",
              "        vertical-align: top;\n",
              "    }\n",
              "\n",
              "    .dataframe thead th {\n",
              "        text-align: right;\n",
              "    }\n",
              "</style>\n",
              "<table border=\"1\" class=\"dataframe\">\n",
              "  <thead>\n",
              "    <tr style=\"text-align: right;\">\n",
              "      <th></th>\n",
              "      <th>article_id</th>\n",
              "      <th>category</th>\n",
              "      <th>title</th>\n",
              "      <th>tags</th>\n",
              "      <th>text</th>\n",
              "    </tr>\n",
              "  </thead>\n",
              "  <tbody>\n",
              "    <tr>\n",
              "      <th>2</th>\n",
              "      <td>http://www.bbc.co.uk/news/business-55494101</td>\n",
              "      <td>business</td>\n",
              "      <td>Adieu to the single market created by the UK</td>\n",
              "      <td>Companies,EU-UK post-Brexit trade talks,Boris ...</td>\n",
              "      <td>Nearly half a century of the UK's membership o...</td>\n",
              "    </tr>\n",
              "    <tr>\n",
              "      <th>9</th>\n",
              "      <td>http://www.bbc.co.uk/news/business-55501049</td>\n",
              "      <td>business</td>\n",
              "      <td>'Worst year for High Street job losses in 25 y...</td>\n",
              "      <td>Retailing,UK economy,UK High Streets</td>\n",
              "      <td>Last year was the worst for the High Street in...</td>\n",
              "    </tr>\n",
              "    <tr>\n",
              "      <th>35</th>\n",
              "      <td>http://www.bbc.co.uk/news/business-55502252</td>\n",
              "      <td>business</td>\n",
              "      <td>Activists cheer as 'sexist' tampon tax is scra...</td>\n",
              "      <td>Companies,Budget 2020,Women's health,Money,Per...</td>\n",
              "      <td>The 5% rate of VAT on sanitary products - refe...</td>\n",
              "    </tr>\n",
              "    <tr>\n",
              "      <th>76</th>\n",
              "      <td>http://www.bbc.co.uk/news/business-55515529</td>\n",
              "      <td>business</td>\n",
              "      <td>Bitcoin tops $34,000 as record rally continues</td>\n",
              "      <td>Bitcoin,Cryptocurrency</td>\n",
              "      <td>Bitcoin's value surged above $34,000 (£24,850)...</td>\n",
              "    </tr>\n",
              "    <tr>\n",
              "      <th>173</th>\n",
              "      <td>http://www.bbc.co.uk/news/business-55522104</td>\n",
              "      <td>business</td>\n",
              "      <td>'Furlough mums and dads while schools are off'...</td>\n",
              "      <td>Trades Union Congress,Job Retention Scheme,Cor...</td>\n",
              "      <td>Working parents trying to balance work and chi...</td>\n",
              "    </tr>\n",
              "    <tr>\n",
              "      <th>...</th>\n",
              "      <td>...</td>\n",
              "      <td>...</td>\n",
              "      <td>...</td>\n",
              "      <td>...</td>\n",
              "      <td>...</td>\n",
              "    </tr>\n",
              "    <tr>\n",
              "      <th>23480</th>\n",
              "      <td>http://www.bbc.co.uk/news/entertainment-arts-5...</td>\n",
              "      <td>entertainment-arts</td>\n",
              "      <td>Radio 4's Today programme temporarily drops of...</td>\n",
              "      <td>Radio</td>\n",
              "      <td>Radio 4's Today programme temporarily dropped ...</td>\n",
              "    </tr>\n",
              "    <tr>\n",
              "      <th>23503</th>\n",
              "      <td>http://www.bbc.co.uk/news/entertainment-arts-5...</td>\n",
              "      <td>entertainment-arts</td>\n",
              "      <td>Storm Arwen: I'm a Celebrity to return on Tues...</td>\n",
              "      <td>ITV,Television,I'm a Celebrity...Get Me Out of...</td>\n",
              "      <td>Live episodes of I'm a Celebrity... Get Me Out...</td>\n",
              "    </tr>\n",
              "    <tr>\n",
              "      <th>23507</th>\n",
              "      <td>http://www.bbc.co.uk/news/entertainment-arts-5...</td>\n",
              "      <td>entertainment-arts</td>\n",
              "      <td>Steps axe their remaining tour dates due to fu...</td>\n",
              "      <td>Live music</td>\n",
              "      <td>Pop group Steps have announced they have are p...</td>\n",
              "    </tr>\n",
              "    <tr>\n",
              "      <th>23536</th>\n",
              "      <td>http://www.bbc.co.uk/news/entertainment-arts-5...</td>\n",
              "      <td>entertainment-arts</td>\n",
              "      <td>Adele announces Las Vegas residency</td>\n",
              "      <td>Las Vegas,Music,Adele</td>\n",
              "      <td>Adele has announced a Las Vegas residency with...</td>\n",
              "    </tr>\n",
              "    <tr>\n",
              "      <th>23566</th>\n",
              "      <td>http://www.bbc.co.uk/news/entertainment-arts-5...</td>\n",
              "      <td>entertainment-arts</td>\n",
              "      <td>Brit Awards: Bree Runway, Lola Young and Holly...</td>\n",
              "      <td>Holly Humberstone,Official UK music charts,Bri...</td>\n",
              "      <td>Bree Runway, Lola Young and Holly Humberstone ...</td>\n",
              "    </tr>\n",
              "  </tbody>\n",
              "</table>\n",
              "<p>3833 rows × 5 columns</p>\n",
              "</div>\n",
              "      <button class=\"colab-df-convert\" onclick=\"convertToInteractive('df-f215e874-2df7-49dd-b89d-2e270941a963')\"\n",
              "              title=\"Convert this dataframe to an interactive table.\"\n",
              "              style=\"display:none;\">\n",
              "        \n",
              "  <svg xmlns=\"http://www.w3.org/2000/svg\" height=\"24px\"viewBox=\"0 0 24 24\"\n",
              "       width=\"24px\">\n",
              "    <path d=\"M0 0h24v24H0V0z\" fill=\"none\"/>\n",
              "    <path d=\"M18.56 5.44l.94 2.06.94-2.06 2.06-.94-2.06-.94-.94-2.06-.94 2.06-2.06.94zm-11 1L8.5 8.5l.94-2.06 2.06-.94-2.06-.94L8.5 2.5l-.94 2.06-2.06.94zm10 10l.94 2.06.94-2.06 2.06-.94-2.06-.94-.94-2.06-.94 2.06-2.06.94z\"/><path d=\"M17.41 7.96l-1.37-1.37c-.4-.4-.92-.59-1.43-.59-.52 0-1.04.2-1.43.59L10.3 9.45l-7.72 7.72c-.78.78-.78 2.05 0 2.83L4 21.41c.39.39.9.59 1.41.59.51 0 1.02-.2 1.41-.59l7.78-7.78 2.81-2.81c.8-.78.8-2.07 0-2.86zM5.41 20L4 18.59l7.72-7.72 1.47 1.35L5.41 20z\"/>\n",
              "  </svg>\n",
              "      </button>\n",
              "      \n",
              "  <style>\n",
              "    .colab-df-container {\n",
              "      display:flex;\n",
              "      flex-wrap:wrap;\n",
              "      gap: 12px;\n",
              "    }\n",
              "\n",
              "    .colab-df-convert {\n",
              "      background-color: #E8F0FE;\n",
              "      border: none;\n",
              "      border-radius: 50%;\n",
              "      cursor: pointer;\n",
              "      display: none;\n",
              "      fill: #1967D2;\n",
              "      height: 32px;\n",
              "      padding: 0 0 0 0;\n",
              "      width: 32px;\n",
              "    }\n",
              "\n",
              "    .colab-df-convert:hover {\n",
              "      background-color: #E2EBFA;\n",
              "      box-shadow: 0px 1px 2px rgba(60, 64, 67, 0.3), 0px 1px 3px 1px rgba(60, 64, 67, 0.15);\n",
              "      fill: #174EA6;\n",
              "    }\n",
              "\n",
              "    [theme=dark] .colab-df-convert {\n",
              "      background-color: #3B4455;\n",
              "      fill: #D2E3FC;\n",
              "    }\n",
              "\n",
              "    [theme=dark] .colab-df-convert:hover {\n",
              "      background-color: #434B5C;\n",
              "      box-shadow: 0px 1px 3px 1px rgba(0, 0, 0, 0.15);\n",
              "      filter: drop-shadow(0px 1px 2px rgba(0, 0, 0, 0.3));\n",
              "      fill: #FFFFFF;\n",
              "    }\n",
              "  </style>\n",
              "\n",
              "      <script>\n",
              "        const buttonEl =\n",
              "          document.querySelector('#df-f215e874-2df7-49dd-b89d-2e270941a963 button.colab-df-convert');\n",
              "        buttonEl.style.display =\n",
              "          google.colab.kernel.accessAllowed ? 'block' : 'none';\n",
              "\n",
              "        async function convertToInteractive(key) {\n",
              "          const element = document.querySelector('#df-f215e874-2df7-49dd-b89d-2e270941a963');\n",
              "          const dataTable =\n",
              "            await google.colab.kernel.invokeFunction('convertToInteractive',\n",
              "                                                     [key], {});\n",
              "          if (!dataTable) return;\n",
              "\n",
              "          const docLinkHtml = 'Like what you see? Visit the ' +\n",
              "            '<a target=\"_blank\" href=https://colab.research.google.com/notebooks/data_table.ipynb>data table notebook</a>'\n",
              "            + ' to learn more about interactive tables.';\n",
              "          element.innerHTML = '';\n",
              "          dataTable['output_type'] = 'display_data';\n",
              "          await google.colab.output.renderOutput(dataTable, element);\n",
              "          const docLink = document.createElement('div');\n",
              "          docLink.innerHTML = docLinkHtml;\n",
              "          element.appendChild(docLink);\n",
              "        }\n",
              "      </script>\n",
              "    </div>\n",
              "  </div>\n",
              "  "
            ],
            "text/plain": [
              "                                              article_id  ...                                               text\n",
              "2            http://www.bbc.co.uk/news/business-55494101  ...  Nearly half a century of the UK's membership o...\n",
              "9            http://www.bbc.co.uk/news/business-55501049  ...  Last year was the worst for the High Street in...\n",
              "35           http://www.bbc.co.uk/news/business-55502252  ...  The 5% rate of VAT on sanitary products - refe...\n",
              "76           http://www.bbc.co.uk/news/business-55515529  ...  Bitcoin's value surged above $34,000 (£24,850)...\n",
              "173          http://www.bbc.co.uk/news/business-55522104  ...  Working parents trying to balance work and chi...\n",
              "...                                                  ...  ...                                                ...\n",
              "23480  http://www.bbc.co.uk/news/entertainment-arts-5...  ...  Radio 4's Today programme temporarily dropped ...\n",
              "23503  http://www.bbc.co.uk/news/entertainment-arts-5...  ...  Live episodes of I'm a Celebrity... Get Me Out...\n",
              "23507  http://www.bbc.co.uk/news/entertainment-arts-5...  ...  Pop group Steps have announced they have are p...\n",
              "23536  http://www.bbc.co.uk/news/entertainment-arts-5...  ...  Adele has announced a Las Vegas residency with...\n",
              "23566  http://www.bbc.co.uk/news/entertainment-arts-5...  ...  Bree Runway, Lola Young and Holly Humberstone ...\n",
              "\n",
              "[3833 rows x 5 columns]"
            ]
          },
          "metadata": {},
          "execution_count": 70
        }
      ],
      "source": [
        "categories_to_keep = ['business', 'health', 'uk-politics', 'entertainment-arts']\n",
        "max_category_size = 1000\n",
        "\n",
        "dataset = dataset[dataset['category'].isin(categories_to_keep)]\n",
        "category_datasets = []\n",
        "for category in categories_to_keep:\n",
        "    category_datasets.append(dataset[dataset['category'] == category][:max_category_size])\n",
        "    \n",
        "result = category_datasets[0]\n",
        "for ds in category_datasets[1:]:\n",
        "    result = result.append(ds)\n",
        "    \n",
        "dataset = result\n",
        "dataset"
      ]
    },
    {
      "cell_type": "code",
      "execution_count": 71,
      "metadata": {
        "colab": {
          "base_uri": "https://localhost:8080/"
        },
        "id": "xq1yOJE2Hd7s",
        "outputId": "f8e903d7-d673-4e2c-d589-482c63087db4"
      },
      "outputs": [
        {
          "output_type": "stream",
          "name": "stdout",
          "text": [
            "article_id      0\n",
            "category        0\n",
            "title           0\n",
            "tags          193\n",
            "text            0\n",
            "dtype: int64\n"
          ]
        }
      ],
      "source": [
        "print(dataset.isna().sum())\n",
        "dataset = dataset.dropna()"
      ]
    },
    {
      "cell_type": "code",
      "execution_count": 72,
      "metadata": {
        "colab": {
          "base_uri": "https://localhost:8080/",
          "height": 367
        },
        "id": "ixJC2AIGHd7t",
        "outputId": "f1591396-faa3-4b58-ddbd-9f25836ac88d"
      },
      "outputs": [
        {
          "output_type": "execute_result",
          "data": {
            "text/plain": [
              "<matplotlib.axes._subplots.AxesSubplot at 0x7efc34d66290>"
            ]
          },
          "metadata": {},
          "execution_count": 72
        },
        {
          "output_type": "display_data",
          "data": {
            "image/png": "[encoded data removed]",
            "text/plain": [
              "<Figure size 432x288 with 1 Axes>"
            ]
          },
          "metadata": {
            "needs_background": "light"
          }
        }
      ],
      "source": [
        "s = dataset['category'].value_counts()\n",
        "s.plot(kind='bar')"
      ]
    },
    {
      "cell_type": "markdown",
      "metadata": {
        "id": "is1DhJ-FHd7t"
      },
      "source": [
        "# Text Pre-Processing - Stop-word removal, Stemming, Vectorization"
      ]
    },
    {
      "cell_type": "code",
      "execution_count": 73,
      "metadata": {
        "colab": {
          "base_uri": "https://localhost:8080/"
        },
        "id": "GTQ9nIIZHd7t",
        "outputId": "23aee8f7-2647-4fdc-f1cb-5d1ceea24a5e"
      },
      "outputs": [
        {
          "output_type": "stream",
          "name": "stdout",
          "text": [
            "[nltk_data] Downloading package punkt to /root/nltk_data...\n",
            "[nltk_data]   Package punkt is already up-to-date!\n",
            "[nltk_data] Downloading package stopwords to /root/nltk_data...\n",
            "[nltk_data]   Package stopwords is already up-to-date!\n"
          ]
        },
        {
          "output_type": "execute_result",
          "data": {
            "text/plain": [
              "True"
            ]
          },
          "metadata": {},
          "execution_count": 73
        }
      ],
      "source": [
        "import re \n",
        "from os import listdir\n",
        "from os.path import isfile, join\n",
        "import json\n",
        "import pathlib\n",
        "import re \n",
        "import nltk\n",
        "from nltk.tokenize import word_tokenize\n",
        "\n",
        "nltk.download('punkt')\n",
        "nltk.download('stopwords')"
      ]
    },
    {
      "cell_type": "code",
      "execution_count": 74,
      "metadata": {
        "id": "MRatxR9qHd7u"
      },
      "outputs": [],
      "source": [
        "import sklearn\n",
        "from nltk.corpus import stopwords\n",
        "from nltk.stem import PorterStemmer\n",
        "from sklearn.feature_extraction.text import CountVectorizer\n",
        "\n",
        "stop_words = stopwords.words('english')\n",
        "VECTORIZER = None\n",
        "\n",
        "def clean(text):\n",
        "    cleaned = re.sub(re.compile('<.*?>'), '', text)\n",
        "    cleaned = re.sub('[^A-Za-z0-9]+', ' ', cleaned)\n",
        "    cleaned = cleaned.lower()\n",
        "    return cleaned\n",
        "    \n",
        "    \n",
        "def tokenize(text):\n",
        "    tokens = nltk.word_tokenize(text)\n",
        "    return tokens\n",
        "\n",
        "\n",
        "def remove_stop_words(tokens):\n",
        "    filtered_tokens = [token for token in tokens if token not in stop_words]\n",
        "    return filtered_tokens\n",
        "\n",
        "\n",
        "def apply_stemming(tokens):\n",
        "    stemmer = PorterStemmer()\n",
        "    stemmed_tokens = [stemmer.stem(token) for token in tokens]\n",
        "    return stemmed_tokens\n",
        "    \n",
        "\n",
        "def vectorize(tokens, vectorizer):\n",
        "    vectorized_tokens = vectorizer.fit(tokens)\n",
        "    return vectorized_tokens\n",
        "\n",
        "\n",
        "def preprocess_text(text):\n",
        "    cleaned_text = clean(text)\n",
        "    tokens = tokenize(cleaned_text)\n",
        "    tokens = remove_stop_words(tokens)\n",
        "    tokens = remove_stop_words(tokens)\n",
        "    tokens = apply_stemming(tokens)\n",
        "    return tokens\n",
        "\n",
        "\n",
        "def vectorize(vectorizer, preprocessed_text):\n",
        "    vectorized = vectorizer.transform([preprocessed_text]).toarray()\n",
        "    return vectorized\n",
        "\n"
      ]
    },
    {
      "cell_type": "code",
      "execution_count": 75,
      "metadata": {
        "colab": {
          "base_uri": "https://localhost:8080/",
          "height": 641
        },
        "id": "ha3a8abhHd7v",
        "outputId": "02e686bb-8929-469b-b40e-87d4465bc10e"
      },
      "outputs": [
        {
          "output_type": "execute_result",
          "data": {
            "text/html": [
              "\n",
              "  <div id=\"df-e9a37c73-c8b1-46ee-9097-c489d493c7a9\">\n",
              "    <div class=\"colab-df-container\">\n",
              "      <div>\n",
              "<style scoped>\n",
              "    .dataframe tbody tr th:only-of-type {\n",
              "        vertical-align: middle;\n",
              "    }\n",
              "\n",
              "    .dataframe tbody tr th {\n",
              "        vertical-align: top;\n",
              "    }\n",
              "\n",
              "    .dataframe thead th {\n",
              "        text-align: right;\n",
              "    }\n",
              "</style>\n",
              "<table border=\"1\" class=\"dataframe\">\n",
              "  <thead>\n",
              "    <tr style=\"text-align: right;\">\n",
              "      <th></th>\n",
              "      <th>article_id</th>\n",
              "      <th>category</th>\n",
              "      <th>title</th>\n",
              "      <th>tags</th>\n",
              "      <th>text</th>\n",
              "    </tr>\n",
              "  </thead>\n",
              "  <tbody>\n",
              "    <tr>\n",
              "      <th>2</th>\n",
              "      <td>http://www.bbc.co.uk/news/business-55494101</td>\n",
              "      <td>business</td>\n",
              "      <td>Adieu to the single market created by the UK</td>\n",
              "      <td>Companies,EU-UK post-Brexit trade talks,Boris ...</td>\n",
              "      <td>nearli half centuri uk membership european uni...</td>\n",
              "    </tr>\n",
              "    <tr>\n",
              "      <th>9</th>\n",
              "      <td>http://www.bbc.co.uk/news/business-55501049</td>\n",
              "      <td>business</td>\n",
              "      <td>'Worst year for High Street job losses in 25 y...</td>\n",
              "      <td>Retailing,UK economy,UK High Streets</td>\n",
              "      <td>last year worst high street 25 year coronaviru...</td>\n",
              "    </tr>\n",
              "    <tr>\n",
              "      <th>35</th>\n",
              "      <td>http://www.bbc.co.uk/news/business-55502252</td>\n",
              "      <td>business</td>\n",
              "      <td>Activists cheer as 'sexist' tampon tax is scra...</td>\n",
              "      <td>Companies,Budget 2020,Women's health,Money,Per...</td>\n",
              "      <td>5 rate vat sanitari product refer tampon tax a...</td>\n",
              "    </tr>\n",
              "    <tr>\n",
              "      <th>76</th>\n",
              "      <td>http://www.bbc.co.uk/news/business-55515529</td>\n",
              "      <td>business</td>\n",
              "      <td>Bitcoin tops $34,000 as record rally continues</td>\n",
              "      <td>Bitcoin,Cryptocurrency</td>\n",
              "      <td>bitcoin valu surg 34 000 24 850 first time sun...</td>\n",
              "    </tr>\n",
              "    <tr>\n",
              "      <th>173</th>\n",
              "      <td>http://www.bbc.co.uk/news/business-55522104</td>\n",
              "      <td>business</td>\n",
              "      <td>'Furlough mums and dads while schools are off'...</td>\n",
              "      <td>Trades Union Congress,Job Retention Scheme,Cor...</td>\n",
              "      <td>work parent tri balanc work childcar put furlo...</td>\n",
              "    </tr>\n",
              "    <tr>\n",
              "      <th>...</th>\n",
              "      <td>...</td>\n",
              "      <td>...</td>\n",
              "      <td>...</td>\n",
              "      <td>...</td>\n",
              "      <td>...</td>\n",
              "    </tr>\n",
              "    <tr>\n",
              "      <th>23480</th>\n",
              "      <td>http://www.bbc.co.uk/news/entertainment-arts-5...</td>\n",
              "      <td>entertainment-arts</td>\n",
              "      <td>Radio 4's Today programme temporarily drops of...</td>\n",
              "      <td>Radio</td>\n",
              "      <td>radio 4 today programm temporarili drop air mo...</td>\n",
              "    </tr>\n",
              "    <tr>\n",
              "      <th>23503</th>\n",
              "      <td>http://www.bbc.co.uk/news/entertainment-arts-5...</td>\n",
              "      <td>entertainment-arts</td>\n",
              "      <td>Storm Arwen: I'm a Celebrity to return on Tues...</td>\n",
              "      <td>ITV,Television,I'm a Celebrity...Get Me Out of...</td>\n",
              "      <td>live episod celebr get return tuesday itv conf...</td>\n",
              "    </tr>\n",
              "    <tr>\n",
              "      <th>23507</th>\n",
              "      <td>http://www.bbc.co.uk/news/entertainment-arts-5...</td>\n",
              "      <td>entertainment-arts</td>\n",
              "      <td>Steps axe their remaining tour dates due to fu...</td>\n",
              "      <td>Live music</td>\n",
              "      <td>pop group step announc postpon remaind uk tour...</td>\n",
              "    </tr>\n",
              "    <tr>\n",
              "      <th>23536</th>\n",
              "      <td>http://www.bbc.co.uk/news/entertainment-arts-5...</td>\n",
              "      <td>entertainment-arts</td>\n",
              "      <td>Adele announces Las Vegas residency</td>\n",
              "      <td>Las Vegas,Music,Adele</td>\n",
              "      <td>adel announc la vega resid weekend perform due...</td>\n",
              "    </tr>\n",
              "    <tr>\n",
              "      <th>23566</th>\n",
              "      <td>http://www.bbc.co.uk/news/entertainment-arts-5...</td>\n",
              "      <td>entertainment-arts</td>\n",
              "      <td>Brit Awards: Bree Runway, Lola Young and Holly...</td>\n",
              "      <td>Holly Humberstone,Official UK music charts,Bri...</td>\n",
              "      <td>bree runway lola young holli humberston nomin ...</td>\n",
              "    </tr>\n",
              "  </tbody>\n",
              "</table>\n",
              "<p>3640 rows × 5 columns</p>\n",
              "</div>\n",
              "      <button class=\"colab-df-convert\" onclick=\"convertToInteractive('df-e9a37c73-c8b1-46ee-9097-c489d493c7a9')\"\n",
              "              title=\"Convert this dataframe to an interactive table.\"\n",
              "              style=\"display:none;\">\n",
              "        \n",
              "  <svg xmlns=\"http://www.w3.org/2000/svg\" height=\"24px\"viewBox=\"0 0 24 24\"\n",
              "       width=\"24px\">\n",
              "    <path d=\"M0 0h24v24H0V0z\" fill=\"none\"/>\n",
              "    <path d=\"M18.56 5.44l.94 2.06.94-2.06 2.06-.94-2.06-.94-.94-2.06-.94 2.06-2.06.94zm-11 1L8.5 8.5l.94-2.06 2.06-.94-2.06-.94L8.5 2.5l-.94 2.06-2.06.94zm10 10l.94 2.06.94-2.06 2.06-.94-2.06-.94-.94-2.06-.94 2.06-2.06.94z\"/><path d=\"M17.41 7.96l-1.37-1.37c-.4-.4-.92-.59-1.43-.59-.52 0-1.04.2-1.43.59L10.3 9.45l-7.72 7.72c-.78.78-.78 2.05 0 2.83L4 21.41c.39.39.9.59 1.41.59.51 0 1.02-.2 1.41-.59l7.78-7.78 2.81-2.81c.8-.78.8-2.07 0-2.86zM5.41 20L4 18.59l7.72-7.72 1.47 1.35L5.41 20z\"/>\n",
              "  </svg>\n",
              "      </button>\n",
              "      \n",
              "  <style>\n",
              "    .colab-df-container {\n",
              "      display:flex;\n",
              "      flex-wrap:wrap;\n",
              "      gap: 12px;\n",
              "    }\n",
              "\n",
              "    .colab-df-convert {\n",
              "      background-color: #E8F0FE;\n",
              "      border: none;\n",
              "      border-radius: 50%;\n",
              "      cursor: pointer;\n",
              "      display: none;\n",
              "      fill: #1967D2;\n",
              "      height: 32px;\n",
              "      padding: 0 0 0 0;\n",
              "      width: 32px;\n",
              "    }\n",
              "\n",
              "    .colab-df-convert:hover {\n",
              "      background-color: #E2EBFA;\n",
              "      box-shadow: 0px 1px 2px rgba(60, 64, 67, 0.3), 0px 1px 3px 1px rgba(60, 64, 67, 0.15);\n",
              "      fill: #174EA6;\n",
              "    }\n",
              "\n",
              "    [theme=dark] .colab-df-convert {\n",
              "      background-color: #3B4455;\n",
              "      fill: #D2E3FC;\n",
              "    }\n",
              "\n",
              "    [theme=dark] .colab-df-convert:hover {\n",
              "      background-color: #434B5C;\n",
              "      box-shadow: 0px 1px 3px 1px rgba(0, 0, 0, 0.15);\n",
              "      filter: drop-shadow(0px 1px 2px rgba(0, 0, 0, 0.3));\n",
              "      fill: #FFFFFF;\n",
              "    }\n",
              "  </style>\n",
              "\n",
              "      <script>\n",
              "        const buttonEl =\n",
              "          document.querySelector('#df-e9a37c73-c8b1-46ee-9097-c489d493c7a9 button.colab-df-convert');\n",
              "        buttonEl.style.display =\n",
              "          google.colab.kernel.accessAllowed ? 'block' : 'none';\n",
              "\n",
              "        async function convertToInteractive(key) {\n",
              "          const element = document.querySelector('#df-e9a37c73-c8b1-46ee-9097-c489d493c7a9');\n",
              "          const dataTable =\n",
              "            await google.colab.kernel.invokeFunction('convertToInteractive',\n",
              "                                                     [key], {});\n",
              "          if (!dataTable) return;\n",
              "\n",
              "          const docLinkHtml = 'Like what you see? Visit the ' +\n",
              "            '<a target=\"_blank\" href=https://colab.research.google.com/notebooks/data_table.ipynb>data table notebook</a>'\n",
              "            + ' to learn more about interactive tables.';\n",
              "          element.innerHTML = '';\n",
              "          dataTable['output_type'] = 'display_data';\n",
              "          await google.colab.output.renderOutput(dataTable, element);\n",
              "          const docLink = document.createElement('div');\n",
              "          docLink.innerHTML = docLinkHtml;\n",
              "          element.appendChild(docLink);\n",
              "        }\n",
              "      </script>\n",
              "    </div>\n",
              "  </div>\n",
              "  "
            ],
            "text/plain": [
              "                                              article_id  ...                                               text\n",
              "2            http://www.bbc.co.uk/news/business-55494101  ...  nearli half centuri uk membership european uni...\n",
              "9            http://www.bbc.co.uk/news/business-55501049  ...  last year worst high street 25 year coronaviru...\n",
              "35           http://www.bbc.co.uk/news/business-55502252  ...  5 rate vat sanitari product refer tampon tax a...\n",
              "76           http://www.bbc.co.uk/news/business-55515529  ...  bitcoin valu surg 34 000 24 850 first time sun...\n",
              "173          http://www.bbc.co.uk/news/business-55522104  ...  work parent tri balanc work childcar put furlo...\n",
              "...                                                  ...  ...                                                ...\n",
              "23480  http://www.bbc.co.uk/news/entertainment-arts-5...  ...  radio 4 today programm temporarili drop air mo...\n",
              "23503  http://www.bbc.co.uk/news/entertainment-arts-5...  ...  live episod celebr get return tuesday itv conf...\n",
              "23507  http://www.bbc.co.uk/news/entertainment-arts-5...  ...  pop group step announc postpon remaind uk tour...\n",
              "23536  http://www.bbc.co.uk/news/entertainment-arts-5...  ...  adel announc la vega resid weekend perform due...\n",
              "23566  http://www.bbc.co.uk/news/entertainment-arts-5...  ...  bree runway lola young holli humberston nomin ...\n",
              "\n",
              "[3640 rows x 5 columns]"
            ]
          },
          "metadata": {},
          "execution_count": 75
        }
      ],
      "source": [
        "# dataset = dataset[:100]\n",
        "\n",
        "# preprocess corpus\n",
        "for index, row in dataset.iterrows():\n",
        "    row['text'] = preprocess_text(row['text'])\n",
        "    row['text'] = ' '.join(row['text'])\n",
        "    \n",
        "dataset"
      ]
    },
    {
      "cell_type": "code",
      "execution_count": 76,
      "metadata": {
        "colab": {
          "base_uri": "https://localhost:8080/"
        },
        "id": "M9CtijPSHd7v",
        "outputId": "97b19a67-021a-4ece-8b85-abbfdba333ca"
      },
      "outputs": [
        {
          "output_type": "stream",
          "name": "stdout",
          "text": [
            "21315\n"
          ]
        }
      ],
      "source": [
        "# # create vectorizer\n",
        "all_texts = dataset['text'].tolist()\n",
        "vectorizer = CountVectorizer(lowercase=False)\n",
        "vectorizer.fit(all_texts)\n",
        "print(len(vectorizer.vocabulary_.keys()))\n",
        "# vectorizer.vocabulary_"
      ]
    },
    {
      "cell_type": "code",
      "execution_count": 77,
      "metadata": {
        "colab": {
          "base_uri": "https://localhost:8080/",
          "height": 641
        },
        "id": "eylcYqLuHd7w",
        "outputId": "97b59499-dc6e-4726-d0a2-acd3098a4ad1"
      },
      "outputs": [
        {
          "output_type": "execute_result",
          "data": {
            "text/html": [
              "\n",
              "  <div id=\"df-7d7bda72-89ff-4be1-bc4a-98cecce8b056\">\n",
              "    <div class=\"colab-df-container\">\n",
              "      <div>\n",
              "<style scoped>\n",
              "    .dataframe tbody tr th:only-of-type {\n",
              "        vertical-align: middle;\n",
              "    }\n",
              "\n",
              "    .dataframe tbody tr th {\n",
              "        vertical-align: top;\n",
              "    }\n",
              "\n",
              "    .dataframe thead th {\n",
              "        text-align: right;\n",
              "    }\n",
              "</style>\n",
              "<table border=\"1\" class=\"dataframe\">\n",
              "  <thead>\n",
              "    <tr style=\"text-align: right;\">\n",
              "      <th></th>\n",
              "      <th>article_id</th>\n",
              "      <th>category</th>\n",
              "      <th>title</th>\n",
              "      <th>tags</th>\n",
              "      <th>text</th>\n",
              "    </tr>\n",
              "  </thead>\n",
              "  <tbody>\n",
              "    <tr>\n",
              "      <th>2</th>\n",
              "      <td>http://www.bbc.co.uk/news/business-55494101</td>\n",
              "      <td>business</td>\n",
              "      <td>Adieu to the single market created by the UK</td>\n",
              "      <td>Companies,EU-UK post-Brexit trade talks,Boris ...</td>\n",
              "      <td>[0, 0, 0, 0, 0, 0, 0, 0, 0, 0, 0, 0, 0, 0, 0, ...</td>\n",
              "    </tr>\n",
              "    <tr>\n",
              "      <th>9</th>\n",
              "      <td>http://www.bbc.co.uk/news/business-55501049</td>\n",
              "      <td>business</td>\n",
              "      <td>'Worst year for High Street job losses in 25 y...</td>\n",
              "      <td>Retailing,UK economy,UK High Streets</td>\n",
              "      <td>[0, 3, 0, 0, 0, 0, 0, 0, 0, 0, 0, 0, 0, 0, 0, ...</td>\n",
              "    </tr>\n",
              "    <tr>\n",
              "      <th>35</th>\n",
              "      <td>http://www.bbc.co.uk/news/business-55502252</td>\n",
              "      <td>business</td>\n",
              "      <td>Activists cheer as 'sexist' tampon tax is scra...</td>\n",
              "      <td>Companies,Budget 2020,Women's health,Money,Per...</td>\n",
              "      <td>[0, 0, 0, 0, 0, 0, 0, 0, 0, 0, 0, 0, 0, 0, 0, ...</td>\n",
              "    </tr>\n",
              "    <tr>\n",
              "      <th>76</th>\n",
              "      <td>http://www.bbc.co.uk/news/business-55515529</td>\n",
              "      <td>business</td>\n",
              "      <td>Bitcoin tops $34,000 as record rally continues</td>\n",
              "      <td>Bitcoin,Cryptocurrency</td>\n",
              "      <td>[1, 5, 0, 0, 0, 0, 0, 0, 0, 0, 0, 0, 0, 0, 0, ...</td>\n",
              "    </tr>\n",
              "    <tr>\n",
              "      <th>173</th>\n",
              "      <td>http://www.bbc.co.uk/news/business-55522104</td>\n",
              "      <td>business</td>\n",
              "      <td>'Furlough mums and dads while schools are off'...</td>\n",
              "      <td>Trades Union Congress,Job Retention Scheme,Cor...</td>\n",
              "      <td>[0, 0, 0, 0, 0, 0, 0, 0, 0, 0, 0, 0, 0, 0, 0, ...</td>\n",
              "    </tr>\n",
              "    <tr>\n",
              "      <th>...</th>\n",
              "      <td>...</td>\n",
              "      <td>...</td>\n",
              "      <td>...</td>\n",
              "      <td>...</td>\n",
              "      <td>...</td>\n",
              "    </tr>\n",
              "    <tr>\n",
              "      <th>23480</th>\n",
              "      <td>http://www.bbc.co.uk/news/entertainment-arts-5...</td>\n",
              "      <td>entertainment-arts</td>\n",
              "      <td>Radio 4's Today programme temporarily drops of...</td>\n",
              "      <td>Radio</td>\n",
              "      <td>[1, 0, 0, 0, 0, 0, 0, 0, 0, 0, 0, 0, 0, 0, 0, ...</td>\n",
              "    </tr>\n",
              "    <tr>\n",
              "      <th>23503</th>\n",
              "      <td>http://www.bbc.co.uk/news/entertainment-arts-5...</td>\n",
              "      <td>entertainment-arts</td>\n",
              "      <td>Storm Arwen: I'm a Celebrity to return on Tues...</td>\n",
              "      <td>ITV,Television,I'm a Celebrity...Get Me Out of...</td>\n",
              "      <td>[0, 1, 0, 0, 0, 0, 0, 0, 0, 0, 0, 0, 0, 0, 0, ...</td>\n",
              "    </tr>\n",
              "    <tr>\n",
              "      <th>23507</th>\n",
              "      <td>http://www.bbc.co.uk/news/entertainment-arts-5...</td>\n",
              "      <td>entertainment-arts</td>\n",
              "      <td>Steps axe their remaining tour dates due to fu...</td>\n",
              "      <td>Live music</td>\n",
              "      <td>[0, 0, 0, 0, 0, 0, 0, 0, 0, 0, 0, 0, 0, 0, 0, ...</td>\n",
              "    </tr>\n",
              "    <tr>\n",
              "      <th>23536</th>\n",
              "      <td>http://www.bbc.co.uk/news/entertainment-arts-5...</td>\n",
              "      <td>entertainment-arts</td>\n",
              "      <td>Adele announces Las Vegas residency</td>\n",
              "      <td>Las Vegas,Music,Adele</td>\n",
              "      <td>[0, 1, 0, 0, 0, 0, 0, 0, 0, 0, 0, 0, 0, 0, 0, ...</td>\n",
              "    </tr>\n",
              "    <tr>\n",
              "      <th>23566</th>\n",
              "      <td>http://www.bbc.co.uk/news/entertainment-arts-5...</td>\n",
              "      <td>entertainment-arts</td>\n",
              "      <td>Brit Awards: Bree Runway, Lola Young and Holly...</td>\n",
              "      <td>Holly Humberstone,Official UK music charts,Bri...</td>\n",
              "      <td>[0, 0, 0, 0, 0, 0, 0, 0, 0, 0, 0, 0, 0, 0, 0, ...</td>\n",
              "    </tr>\n",
              "  </tbody>\n",
              "</table>\n",
              "<p>3640 rows × 5 columns</p>\n",
              "</div>\n",
              "      <button class=\"colab-df-convert\" onclick=\"convertToInteractive('df-7d7bda72-89ff-4be1-bc4a-98cecce8b056')\"\n",
              "              title=\"Convert this dataframe to an interactive table.\"\n",
              "              style=\"display:none;\">\n",
              "        \n",
              "  <svg xmlns=\"http://www.w3.org/2000/svg\" height=\"24px\"viewBox=\"0 0 24 24\"\n",
              "       width=\"24px\">\n",
              "    <path d=\"M0 0h24v24H0V0z\" fill=\"none\"/>\n",
              "    <path d=\"M18.56 5.44l.94 2.06.94-2.06 2.06-.94-2.06-.94-.94-2.06-.94 2.06-2.06.94zm-11 1L8.5 8.5l.94-2.06 2.06-.94-2.06-.94L8.5 2.5l-.94 2.06-2.06.94zm10 10l.94 2.06.94-2.06 2.06-.94-2.06-.94-.94-2.06-.94 2.06-2.06.94z\"/><path d=\"M17.41 7.96l-1.37-1.37c-.4-.4-.92-.59-1.43-.59-.52 0-1.04.2-1.43.59L10.3 9.45l-7.72 7.72c-.78.78-.78 2.05 0 2.83L4 21.41c.39.39.9.59 1.41.59.51 0 1.02-.2 1.41-.59l7.78-7.78 2.81-2.81c.8-.78.8-2.07 0-2.86zM5.41 20L4 18.59l7.72-7.72 1.47 1.35L5.41 20z\"/>\n",
              "  </svg>\n",
              "      </button>\n",
              "      \n",
              "  <style>\n",
              "    .colab-df-container {\n",
              "      display:flex;\n",
              "      flex-wrap:wrap;\n",
              "      gap: 12px;\n",
              "    }\n",
              "\n",
              "    .colab-df-convert {\n",
              "      background-color: #E8F0FE;\n",
              "      border: none;\n",
              "      border-radius: 50%;\n",
              "      cursor: pointer;\n",
              "      display: none;\n",
              "      fill: #1967D2;\n",
              "      height: 32px;\n",
              "      padding: 0 0 0 0;\n",
              "      width: 32px;\n",
              "    }\n",
              "\n",
              "    .colab-df-convert:hover {\n",
              "      background-color: #E2EBFA;\n",
              "      box-shadow: 0px 1px 2px rgba(60, 64, 67, 0.3), 0px 1px 3px 1px rgba(60, 64, 67, 0.15);\n",
              "      fill: #174EA6;\n",
              "    }\n",
              "\n",
              "    [theme=dark] .colab-df-convert {\n",
              "      background-color: #3B4455;\n",
              "      fill: #D2E3FC;\n",
              "    }\n",
              "\n",
              "    [theme=dark] .colab-df-convert:hover {\n",
              "      background-color: #434B5C;\n",
              "      box-shadow: 0px 1px 3px 1px rgba(0, 0, 0, 0.15);\n",
              "      filter: drop-shadow(0px 1px 2px rgba(0, 0, 0, 0.3));\n",
              "      fill: #FFFFFF;\n",
              "    }\n",
              "  </style>\n",
              "\n",
              "      <script>\n",
              "        const buttonEl =\n",
              "          document.querySelector('#df-7d7bda72-89ff-4be1-bc4a-98cecce8b056 button.colab-df-convert');\n",
              "        buttonEl.style.display =\n",
              "          google.colab.kernel.accessAllowed ? 'block' : 'none';\n",
              "\n",
              "        async function convertToInteractive(key) {\n",
              "          const element = document.querySelector('#df-7d7bda72-89ff-4be1-bc4a-98cecce8b056');\n",
              "          const dataTable =\n",
              "            await google.colab.kernel.invokeFunction('convertToInteractive',\n",
              "                                                     [key], {});\n",
              "          if (!dataTable) return;\n",
              "\n",
              "          const docLinkHtml = 'Like what you see? Visit the ' +\n",
              "            '<a target=\"_blank\" href=https://colab.research.google.com/notebooks/data_table.ipynb>data table notebook</a>'\n",
              "            + ' to learn more about interactive tables.';\n",
              "          element.innerHTML = '';\n",
              "          dataTable['output_type'] = 'display_data';\n",
              "          await google.colab.output.renderOutput(dataTable, element);\n",
              "          const docLink = document.createElement('div');\n",
              "          docLink.innerHTML = docLinkHtml;\n",
              "          element.appendChild(docLink);\n",
              "        }\n",
              "      </script>\n",
              "    </div>\n",
              "  </div>\n",
              "  "
            ],
            "text/plain": [
              "                                              article_id  ...                                               text\n",
              "2            http://www.bbc.co.uk/news/business-55494101  ...  [0, 0, 0, 0, 0, 0, 0, 0, 0, 0, 0, 0, 0, 0, 0, ...\n",
              "9            http://www.bbc.co.uk/news/business-55501049  ...  [0, 3, 0, 0, 0, 0, 0, 0, 0, 0, 0, 0, 0, 0, 0, ...\n",
              "35           http://www.bbc.co.uk/news/business-55502252  ...  [0, 0, 0, 0, 0, 0, 0, 0, 0, 0, 0, 0, 0, 0, 0, ...\n",
              "76           http://www.bbc.co.uk/news/business-55515529  ...  [1, 5, 0, 0, 0, 0, 0, 0, 0, 0, 0, 0, 0, 0, 0, ...\n",
              "173          http://www.bbc.co.uk/news/business-55522104  ...  [0, 0, 0, 0, 0, 0, 0, 0, 0, 0, 0, 0, 0, 0, 0, ...\n",
              "...                                                  ...  ...                                                ...\n",
              "23480  http://www.bbc.co.uk/news/entertainment-arts-5...  ...  [1, 0, 0, 0, 0, 0, 0, 0, 0, 0, 0, 0, 0, 0, 0, ...\n",
              "23503  http://www.bbc.co.uk/news/entertainment-arts-5...  ...  [0, 1, 0, 0, 0, 0, 0, 0, 0, 0, 0, 0, 0, 0, 0, ...\n",
              "23507  http://www.bbc.co.uk/news/entertainment-arts-5...  ...  [0, 0, 0, 0, 0, 0, 0, 0, 0, 0, 0, 0, 0, 0, 0, ...\n",
              "23536  http://www.bbc.co.uk/news/entertainment-arts-5...  ...  [0, 1, 0, 0, 0, 0, 0, 0, 0, 0, 0, 0, 0, 0, 0, ...\n",
              "23566  http://www.bbc.co.uk/news/entertainment-arts-5...  ...  [0, 0, 0, 0, 0, 0, 0, 0, 0, 0, 0, 0, 0, 0, 0, ...\n",
              "\n",
              "[3640 rows x 5 columns]"
            ]
          },
          "metadata": {},
          "execution_count": 77
        }
      ],
      "source": [
        "# vectorize preprocessed text\n",
        "for index, row in dataset.iterrows():\n",
        "    row['text'] = vectorize(vectorizer, row['text'])[0]\n",
        "\n",
        "dataset"
      ]
    },
    {
      "cell_type": "code",
      "execution_count": 78,
      "metadata": {
        "colab": {
          "base_uri": "https://localhost:8080/"
        },
        "id": "fTjzEaZqHd7w",
        "outputId": "d062a508-a8b3-42f4-8070-b6e00f267c79"
      },
      "outputs": [
        {
          "output_type": "stream",
          "name": "stdout",
          "text": [
            "[0 0 0 ... 0 0 0]\n",
            "21315\n"
          ]
        }
      ],
      "source": [
        "print(dataset.iloc[0]['text'])\n",
        "print(len(dataset.iloc[0]['text']))"
      ]
    },
    {
      "cell_type": "markdown",
      "metadata": {
        "id": "7-jRFX54Hd7x"
      },
      "source": [
        "# Classification"
      ]
    },
    {
      "cell_type": "code",
      "execution_count": 92,
      "metadata": {
        "id": "afmJjNmlHd7x"
      },
      "outputs": [],
      "source": [
        "from sklearn.model_selection import train_test_split\n",
        "from sklearn import metrics\n",
        "\n",
        "from sklearn.ensemble import RandomForestClassifier\n",
        "from sklearn.naive_bayes import GaussianNB\n",
        "from sklearn.svm import SVC\n",
        "from sklearn.ensemble import GradientBoostingClassifier\n",
        "from sklearn.model_selection import GridSearchCV\n",
        "from sklearn.linear_model import SGDClassifier\n",
        "from sklearn.neighbors import KNeighborsClassifier"
      ]
    },
    {
      "cell_type": "code",
      "source": [
        "X_train, X_valid, y_train, y_valid = train_test_split(dataset['text'], dataset['category'], test_size=0.1, random_state=42)\n",
        "X_train, X_test, y_train, y_test = train_test_split(X_train, y_train, test_size=0.2, random_state=42)"
      ],
      "metadata": {
        "id": "TKw88gfcIqwf"
      },
      "execution_count": 93,
      "outputs": []
    },
    {
      "cell_type": "code",
      "source": [
        "X_train_array = []\n",
        "for i in X_train:\n",
        "  X_train_array.append(i);\n",
        "\n",
        "X_test_array = []\n",
        "for i in X_test:\n",
        "  X_test_array.append(i);\n",
        "\n"
      ],
      "metadata": {
        "id": "BceqpruRPF13"
      },
      "execution_count": 94,
      "outputs": []
    },
    {
      "cell_type": "code",
      "source": [
        "rfc = RandomForestClassifier(n_estimators=1000, random_state=0)\n",
        "sgd = SGDClassifier()\n",
        "knb = KNeighborsClassifier(n_neighbors=10)\n",
        "gnb = GaussianNB()\n",
        "svc = SVC()\n",
        "gbc = GradientBoostingClassifier()\n",
        "\n",
        "rfc.fit(X_train_array, y_train) \n",
        "sgd.fit(X_train_array, y_train)\n",
        "knb.fit(X_train_array, y_train)\n",
        "gnb.fit(X_train_array, y_train)\n",
        "svc.fit(X_train_array, y_train)\n",
        "gbc.fit(X_train_array, y_train)"
      ],
      "metadata": {
        "colab": {
          "base_uri": "https://localhost:8080/"
        },
        "id": "KFvK6CiTQf3w",
        "outputId": "834c5aa6-8f59-45a2-9c92-2091706ee65e"
      },
      "execution_count": 95,
      "outputs": [
        {
          "output_type": "execute_result",
          "data": {
            "text/plain": [
              "GradientBoostingClassifier()"
            ]
          },
          "metadata": {},
          "execution_count": 95
        }
      ]
    },
    {
      "cell_type": "code",
      "source": [
        "print('SGD classifier metrics')\n",
        "predicted_sgd = sgd.predict(X_test_array)\n",
        "print(metrics.classification_report(predicted_sgd, y_test))"
      ],
      "metadata": {
        "colab": {
          "base_uri": "https://localhost:8080/"
        },
        "id": "a5WIuu4VIq7g",
        "outputId": "1ff1db3d-2168-4e25-8e83-777387123407"
      },
      "execution_count": 96,
      "outputs": [
        {
          "output_type": "stream",
          "name": "stdout",
          "text": [
            "SGD classifier metrics\n",
            "                    precision    recall  f1-score   support\n",
            "\n",
            "          business       0.98      0.98      0.98       163\n",
            "entertainment-arts       0.96      0.99      0.97       135\n",
            "            health       0.98      0.98      0.98       175\n",
            "       uk-politics       1.00      0.98      0.99       183\n",
            "\n",
            "          accuracy                           0.98       656\n",
            "         macro avg       0.98      0.98      0.98       656\n",
            "      weighted avg       0.98      0.98      0.98       656\n",
            "\n"
          ]
        }
      ]
    },
    {
      "cell_type": "code",
      "source": [
        "print('K Neighbours classifier metrics')\n",
        "predicted_knb = knb.predict(X_test_array)\n",
        "print(metrics.classification_report(predicted_knb, y_test))"
      ],
      "metadata": {
        "colab": {
          "base_uri": "https://localhost:8080/"
        },
        "id": "nwPglFX1Iq-F",
        "outputId": "fe8f9a7f-5560-44f8-ee21-4ce692f892c2"
      },
      "execution_count": 97,
      "outputs": [
        {
          "output_type": "stream",
          "name": "stdout",
          "text": [
            "K Neighbours classifier metrics\n",
            "                    precision    recall  f1-score   support\n",
            "\n",
            "          business       0.53      0.96      0.68        90\n",
            "entertainment-arts       0.98      0.76      0.86       179\n",
            "            health       0.91      0.95      0.93       168\n",
            "       uk-politics       0.92      0.75      0.83       219\n",
            "\n",
            "          accuracy                           0.83       656\n",
            "         macro avg       0.84      0.86      0.82       656\n",
            "      weighted avg       0.88      0.83      0.84       656\n",
            "\n"
          ]
        }
      ]
    },
    {
      "cell_type": "code",
      "source": [
        "print('Random Forest classifier metrics')\n",
        "predicted_rfc = rfc.predict(X_test_array)\n",
        "print(metrics.classification_report(predicted_rfc, y_test))"
      ],
      "metadata": {
        "colab": {
          "base_uri": "https://localhost:8080/"
        },
        "id": "aE-V-lkCIrAd",
        "outputId": "6bae5b0a-fca7-430c-cc46-aad7bb3e464a"
      },
      "execution_count": 98,
      "outputs": [
        {
          "output_type": "stream",
          "name": "stdout",
          "text": [
            "Random Forest classifier metrics\n",
            "                    precision    recall  f1-score   support\n",
            "\n",
            "          business       0.99      0.94      0.97       172\n",
            "entertainment-arts       0.94      0.99      0.96       131\n",
            "            health       0.97      0.98      0.98       173\n",
            "       uk-politics       0.98      0.97      0.97       180\n",
            "\n",
            "          accuracy                           0.97       656\n",
            "         macro avg       0.97      0.97      0.97       656\n",
            "      weighted avg       0.97      0.97      0.97       656\n",
            "\n"
          ]
        }
      ]
    },
    {
      "cell_type": "code",
      "source": [
        "print('Gaussian Naive Bayes classifier metrics')\n",
        "predicted_gnb = gnb.predict(X_test_array)\n",
        "print(metrics.classification_report(predicted_gnb, y_test))"
      ],
      "metadata": {
        "colab": {
          "base_uri": "https://localhost:8080/"
        },
        "id": "tgjIDwxWaGGH",
        "outputId": "191619d9-78be-4f01-dd95-5d75f410ae36"
      },
      "execution_count": 99,
      "outputs": [
        {
          "output_type": "stream",
          "name": "stdout",
          "text": [
            "Gaussian Naive Bayes classifier metrics\n",
            "                    precision    recall  f1-score   support\n",
            "\n",
            "          business       0.94      0.94      0.94       162\n",
            "entertainment-arts       0.94      0.91      0.93       144\n",
            "            health       0.95      0.99      0.97       167\n",
            "       uk-politics       0.97      0.95      0.96       183\n",
            "\n",
            "          accuracy                           0.95       656\n",
            "         macro avg       0.95      0.95      0.95       656\n",
            "      weighted avg       0.95      0.95      0.95       656\n",
            "\n"
          ]
        }
      ]
    },
    {
      "cell_type": "code",
      "source": [
        "print('SVC classifier metrics')\n",
        "predicted_svc = svc.predict(X_test_array)\n",
        "print(metrics.classification_report(predicted_svc, y_test))"
      ],
      "metadata": {
        "colab": {
          "base_uri": "https://localhost:8080/"
        },
        "id": "lAsgMao6aJaM",
        "outputId": "0fcfd091-073c-4345-853d-40a36adf7f17"
      },
      "execution_count": 100,
      "outputs": [
        {
          "output_type": "stream",
          "name": "stdout",
          "text": [
            "SVC classifier metrics\n",
            "                    precision    recall  f1-score   support\n",
            "\n",
            "          business       0.98      0.95      0.97       168\n",
            "entertainment-arts       0.97      0.98      0.97       138\n",
            "            health       0.96      0.99      0.97       170\n",
            "       uk-politics       0.98      0.98      0.98       180\n",
            "\n",
            "          accuracy                           0.97       656\n",
            "         macro avg       0.97      0.97      0.97       656\n",
            "      weighted avg       0.97      0.97      0.97       656\n",
            "\n"
          ]
        }
      ]
    },
    {
      "cell_type": "code",
      "source": [
        "print('Gradient boosting classifier metrics')\n",
        "predicted_gbc = gbc.predict(X_test_array)\n",
        "print(metrics.classification_report(predicted_gbc, y_test))"
      ],
      "metadata": {
        "colab": {
          "base_uri": "https://localhost:8080/"
        },
        "id": "fqfjd4PdaJgf",
        "outputId": "84717c54-eb66-4ec8-c818-a64c51853a57"
      },
      "execution_count": 101,
      "outputs": [
        {
          "output_type": "stream",
          "name": "stdout",
          "text": [
            "Gradient boosting classifier metrics\n",
            "                    precision    recall  f1-score   support\n",
            "\n",
            "          business       0.98      0.92      0.95       173\n",
            "entertainment-arts       0.92      0.98      0.95       131\n",
            "            health       0.97      0.99      0.98       171\n",
            "       uk-politics       0.98      0.97      0.97       181\n",
            "\n",
            "          accuracy                           0.96       656\n",
            "         macro avg       0.96      0.96      0.96       656\n",
            "      weighted avg       0.96      0.96      0.96       656\n",
            "\n"
          ]
        }
      ]
    }
  ],
  "metadata": {
    "kernelspec": {
      "display_name": "Python 3",
      "language": "python",
      "name": "python3"
    },
    "language_info": {
      "codemirror_mode": {
        "name": "ipython",
        "version": 3
      },
      "file_extension": ".py",
      "mimetype": "text/x-python",
      "name": "python",
      "nbconvert_exporter": "python",
      "pygments_lexer": "ipython3",
      "version": "3.8.10"
    },
    "colab": {
      "name": "Classification.ipynb",
      "provenance": []
    }
  },
  "nbformat": 4,
  "nbformat_minor": 0
}