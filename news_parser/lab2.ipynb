{
  "nbformat": 4,
  "nbformat_minor": 0,
  "metadata": {
    "colab": {
      "name": "parser_lab2.ipynb",
      "provenance": []
    },
    "kernelspec": {
      "name": "python3",
      "display_name": "Python 3"
    },
    "language_info": {
      "name": "python"
    }
  },
  "cells": [
    {
      "cell_type": "code",
      "source": [
        "import re \n",
        "from os import listdir\n",
        "from os.path import isfile, join\n",
        "import json\n",
        "import pathlib\n",
        "import re \n",
        "import nltk\n",
        "from nltk.tokenize import word_tokenize\n",
        "nltk.download('punkt')"
      ],
      "metadata": {
        "colab": {
          "base_uri": "https://localhost:8080/"
        },
        "id": "h5zyybd5v3aI",
        "outputId": "454e7e34-b252-4ec0-99b5-4a449acd91b6"
      },
      "execution_count": null,
      "outputs": [
        {
          "output_type": "stream",
          "name": "stdout",
          "text": [
            "[nltk_data] Downloading package punkt to /root/nltk_data...\n",
            "[nltk_data]   Package punkt is already up-to-date!\n"
          ]
        },
        {
          "output_type": "execute_result",
          "data": {
            "text/plain": [
              "True"
            ]
          },
          "metadata": {},
          "execution_count": 38
        }
      ]
    },
    {
      "cell_type": "code",
      "source": [
        "DATA_PATH = './artifacts/merged.json'\n",
        "article = json.load(open(DATA_PATH))"
      ],
      "metadata": {
        "id": "t0_ztLtcwLU2"
      },
      "execution_count": null,
      "outputs": []
    },
    {
      "cell_type": "code",
      "source": [
        "article = str(article)"
      ],
      "metadata": {
        "id": "JqT0-qZgxgCi"
      },
      "execution_count": null,
      "outputs": []
    },
    {
      "cell_type": "code",
      "source": [
        "cleaned_article = re.sub(re.compile('<.*?>'), '', article)\n",
        "cleaned_article = re.sub('[^A-Za-z0-9]+', ' ', cleaned_article)\n"
      ],
      "metadata": {
        "id": "LViZGdJUwLca"
      },
      "execution_count": null,
      "outputs": []
    },
    {
      "cell_type": "code",
      "source": [
        "\n",
        "\n",
        "cleaned_article = cleaned_article.lower()\n",
        "tokens = nltk.word_tokenize(cleaned_article)\n"
      ],
      "metadata": {
        "id": "5dCZf3j5xpfF"
      },
      "execution_count": null,
      "outputs": []
    },
    {
      "cell_type": "code",
      "source": [
        "from nltk.corpus import stopwords\n",
        "\n",
        "stop_words = stopwords.words('english')\n",
        "\n",
        "filtered_article = [word for word in tokens if word not in stop_words]\n"
      ],
      "metadata": {
        "id": "JX5WLBAkyfsh"
      },
      "execution_count": null,
      "outputs": []
    },
    {
      "cell_type": "code",
      "source": [
        "from nltk.stem import PorterStemmer\n",
        "\n",
        "stemmer = PorterStemmer()\n",
        "stemmed_review = [stemmer.stem(word) for word in filtered_article]\n"
      ],
      "metadata": {
        "id": "DwFAvkIuztYf"
      },
      "execution_count": null,
      "outputs": []
    },
    {
      "cell_type": "code",
      "source": [
        "import sklearn\n",
        "from sklearn.feature_extraction.text import CountVectorizer\n",
        "\n",
        "count_vect = CountVectorizer()\n",
        "X_train_counts = count_vect.fit_transform(stemmed_review)\n",
        "X_train_counts.shape\n"
      ],
      "metadata": {
        "colab": {
          "base_uri": "https://localhost:8080/"
        },
        "id": "Sm6RiXwI1QsW",
        "outputId": "1aacce02-7f3c-486a-a3ca-73e993830996"
      },
      "execution_count": null,
      "outputs": [
        {
          "output_type": "execute_result",
          "data": {
            "text/plain": [
              "(9424178, 76726)"
            ]
          },
          "metadata": {},
          "execution_count": 46
        }
      ]
    }
  ]
}